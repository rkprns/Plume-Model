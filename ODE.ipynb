{
 "cells": [
  {
   "cell_type": "code",
   "execution_count": 4,
   "metadata": {
    "collapsed": false
   },
   "outputs": [
    {
     "name": "stdout",
     "output_type": "stream",
     "text": [
      "Populating the interactive namespace from numpy and matplotlib\n"
     ]
    }
   ],
   "source": [
    "\n",
    "%pylab inline\n",
    "from scipy.integrate import odeint\n",
    "import scipy\n",
    "import numpy as np\n",
    "\n"
   ]
  },
  {
   "cell_type": "code",
   "execution_count": 5,
   "metadata": {
    "collapsed": false
   },
   "outputs": [
    {
     "name": "stdout",
     "output_type": "stream",
     "text": [
      "1.07668304755\n",
      "15685.6847357\n"
     ]
    }
   ],
   "source": [
    "rho=1000.\n",
    "rho0=1027.9\n",
    "g=9.81\n",
    "#G=35\n",
    "c0=1.0\n",
    "Q0=600.\n",
    "#kbp=1.08*10.**-5.\n",
    "#kap=.689\n",
    "kbp=3.54*10.**-5.\n",
    "kap=.3095\n",
    "#kap=.5\n",
    "#kbp=8.72*10.**-5.\n",
    "\n",
    "\n",
    "\n",
    "Rs=1.65\n",
    "#b1=100\n",
    "#b2=0\n",
    "b1=20.\n",
    "b2=1.258\n",
    "nf=2.\n",
    "p=1.\n",
    "q=.5\n",
    "nu=10**-5\n",
    "To=12.\n",
    "nu=2.7488*10**-(7.)+1.4907*10**(-6.)*exp(-.034812*To)\n",
    "Dp=4.\n",
    "rhos=2500.\n",
    "lamdap=.7\n",
    "W0=200.\n",
    "derho0=27.9\n",
    "gp0=derho0/rho*g\n",
    "Frd0=1.25\n",
    "h0=(((Q0/W0)/Frd0)**2./((derho0/rho0)*g))**(1./3.)\n",
    "U0=Q0/(W0*h0)\n",
    "D0=20.\n",
    "#c0=1.\n",
    "eta0=0\n",
    "#a2=.007\n",
    "#a1=.01\n",
    "Dp=Dp/10.**6.\n",
    "D0=D0/10.**6.\n",
    "alpha2=.1\n",
    "alpha=.007\n",
    "print U0\n",
    "mu=nu*rho\n",
    "Fy=10.**(-10.)\n",
    "ka=kap*(Dp**(nf-3.))/(nf*rhos)\n",
    "kb=kbp*(Dp**(-p)/nf)*(mu/Fy)**q\n",
    "#ka=1.06831379618\n",
    "#kb=1660.19577159\n",
    "Ka=17.8052299364\n",
    "Kb=4.98058731477e-07\n",
    "\n",
    "\n",
    "print kb"
   ]
  },
  {
   "cell_type": "raw",
   "metadata": {
    "collapsed": false
   },
   "source": [
    "def dX(X,x):\n",
    "    derho=X[0]\n",
    "    W=X[1]\n",
    "    U=X[2]\n",
    "    h=X[3]\n",
    "    D=X[4]\n",
    "    c=X[5]\n",
    "    eta=X[6]\n",
    "    \n",
    "    #Frd=U/((derho/rho0)*g*h)**.5\n",
    "    #Ri=Frd**(-2.)\n",
    "    #Ri=derho/rho0*g*h/U**2\n",
    "    Ri=derho/rho*g*h/U**2\n",
    "    we=a2*(1.+718.*Ri**2.4)**(-.5)*U\n",
    "    #G=sqrt(alpha2/nu)*sqrt(U**3/W)\n",
    "    G=(e/nu)**.5\n",
    "    dderho=-derho*we/(U*h)\n",
    "    dW=2.*Ri**(.5)\n",
    "    #dW=2*Frd**-1\n",
    "    dU=U/(1.-Ri)*((1.+Ri/2.)*1./derho*dderho+Ri*(1./W)*dW)\n",
    "    dh=-h*((1./derho*dderho+1./W*dW+1/U*dU))\n",
    "    dD=1./(U)*(ka*G*c*D**(4.-nf)-kb*G**(q+1.)*(D-Dp)*p*D**(2.*q+1.))\n",
    "    ws=g*Rs*(D)**(nf-1.)/(b1*nu*(Dp)**(nf-3.)+b2*(g*Rs*(D)**nf*(Dp)**(nf-3.))**.5)*10**-6\n",
    "    dc=-(ws+we)*c/(h*U)\n",
    "    deta=(1./U)*ws*(1.-lamdap)*c/rhos\n",
    "    #detadt=(ws/(-lamdap))*(C/rho0)\n",
    "    \n",
    "    return (derho,dW,dU,h0,dD,dc,deta)"
   ]
  },
  {
   "cell_type": "raw",
   "metadata": {
    "collapsed": false
   },
   "source": [
    "bc=[derho0,W0,U0,h0,D0,c0,eta0]\n",
    "x=linspace(0,100,10000)"
   ]
  },
  {
   "cell_type": "raw",
   "metadata": {
    "collapsed": false
   },
   "source": [
    "X=odeint(dX,bc,x)"
   ]
  },
  {
   "cell_type": "raw",
   "metadata": {
    "collapsed": false
   },
   "source": [
    "plot(x,X[:,2])"
   ]
  },
  {
   "cell_type": "code",
   "execution_count": 6,
   "metadata": {
    "collapsed": false
   },
   "outputs": [
   ],
   "source": [
    "def dX(X,x):\n",
    "    derho=X[0] #yw0\n",
    "    W=X[1] #yw1\n",
    "    U=X[2] #yw2\n",
    "    h=X[3] #yw3\n",
    "    D=X[4] #yw5\n",
    "    c=X[5] #yw4\n",
    "       \n",
    "    Frd=U/sqrt((derho/rho0)*g*h)\n",
    "    Ri=(derho/rho0)*g*h/U**2.\n",
    "    delta=alpha*(1.+720.*Ri**2.4)**(-.5)\n",
    "    \n",
    "   \n",
    "    we=delta*U\n",
    "    rho=derho+rho0\n",
    "    #Rs=(rho-rhos)/rho\n",
    "    Rs=(rhos-rho)/rho\n",
    "    #G=(e/nu)**.5\n",
    "    G=sqrt(alpha2/nu)*sqrt(U**3./W)\n",
    "    eta=(10.**(-6.)/G)**.5\n",
    "    dderho=-derho*we/(h*U)\n",
    "    dW=2.*(Ri)**.5\n",
    "    #dW=2.*Frd**(-1.)\n",
    "    dU=(U/(1.-Ri))*((1.+.5*Ri)*(1./derho)*dderho+Ri*(1./W)*dW)\n",
    "    dh=-h*((1./derho*dderho+1./W*dW+1./U*dU))\n",
    "    ws=Rs*g*D**(nf-1.)/(b1*nu*Dp**(nf-3.)+b2*sqrt(g*Rs*D**nf*Dp**(nf-3.)))\n",
    "    dc=-(ws+we)*c/(h*U)\n",
    "    A=ka*G*c*D**(4.-nf)\n",
    "    B=kb*G**(q+1.)*(D-Dp)**p*D**(2.*q+1.)\n",
    "    dD=(A-B)/U\n",
    "    \n",
    "    return (dderho,dW,dU,dh,dD,dc)    "
   ]
  },
  {
   "cell_type": "code",
   "execution_count": 25,
   "metadata": {
    "collapsed": false
   },
   "outputs": [
    {
     "name": "stdout",
     "output_type": "stream",
     "text": [
      "[  0.00000000e+00   1.00000000e+00   2.00000000e+00 ...,   9.99997000e+05\n",
      "   9.99998000e+05   9.99999000e+05]\n",
      "[  0.00000000e+00   5.00000500e-03   1.00000100e-02 ...,   4.99999000e+03\n",
      "   4.99999500e+03   5.00000000e+03]\n"
     ]
    }
   ],
   "source": [
    "bc=[derho0,W0,U0,h0,D0,c0]\n",
    "x=linspace(0,5000,1000000)\n",
    "xxx=x/(5.000005*10.**-3.)\n",
    "print xxx\n",
    "print x"
   ]
  },
  {
   "cell_type": "code",
   "execution_count": 8,
   "metadata": {
    "collapsed": false
   },
   "outputs": [
    {
     "name": "stdout",
     "output_type": "stream",
     "text": [
      "[ 2.78633532  2.78603621  2.78573732 ...,  1.81650286  1.81650318\n",
      "  1.81650349]\n"
     ]
    }
   ],
   "source": [
    "X=odeint(dX,bc,x)\n",
    "print X[:,3]"
   ]
  },
  {
   "cell_type": "code",
   "execution_count": 9,
   "metadata": {
    "collapsed": false
   },
   "outputs": [
    {
     "name": "stdout",
     "output_type": "stream",
     "text": [
      "[ 22.28571683  22.28754955  22.2893805  ...,   0.47971589   0.47971516\n",
      "   0.47971444]\n"
     ]
    }
   ],
   "source": [
    "ws=linspace(0,5000,1000000)\n",
    "ws[:]=Rs*g*X[:,4]**(nf-1.)/(b1*nu*Dp**(nf-3.)+b2*sqrt(g*Rs*X[:,4]**nf*Dp**(nf-3.)))\n",
    "G=linspace(0,5000,1000000)\n",
    "\n",
    "G[:]=sqrt(alpha2/nu)*sqrt(X[:,2]**3./X[:,1])\n",
    "print G"
   ]
  },
  {
   "cell_type": "code",
   "execution_count": 10,
   "metadata": {
    "collapsed": false
   },
   "outputs": [
    {
     "name": "stdout",
     "output_type": "stream",
     "text": [
      "[ 1.          0.99999913  0.99999826 ...,  0.02561255  0.02561248\n",
      "  0.02561241]\n"
     ]
    },
    {
     "data": {
      "text/plain": [
       "[<matplotlib.lines.Line2D at 0x7fbc9ee297d0>]"
      ]
     },
     "execution_count": 10,
     "metadata": {
     },
     "output_type": "execute_result"
    },
    {
     "data": {
      "image/png": "[encoded data removed]"
     }
    }
   ],
   "source": [
    "#plot(x,G)\n",
    "print X[:,5]\n",
    "#semilogy(x,X[:,5])\n",
    "plot(x,X[:,4]*10.**6.)\n",
    "#xlim(0,1000)"
   ]
  },
  {
   "cell_type": "code",
   "execution_count": 11,
   "metadata": {
    "collapsed": false
   },
   "outputs": [
    {
     "data": {
      "image/png": "[encoded data removed]"
     }
    }
   ],
   "source": [
    "figure(figsize=(6,4))\n",
    "matplotlib.rcParams.update({'font.size': 22})\n",
    "plot(x, X[:,3])\n",
    "\n",
    "plt.xlabel('x[m] (s)')\n",
    "plt.ylabel('h (m)')\n",
    "#leg=plt.legend(loc='upper center', bbox_to_anchor=(0.5, -0.15),\n",
    "          #fancybox=True, shadow=True, ncol=1)\n",
    "savefig('h.pdf',bbox_inches='tight')"
   ]
  },
  {
   "cell_type": "code",
   "execution_count": 12,
   "metadata": {
    "collapsed": false
   },
   "outputs": [
    {
     "data": {
      "text/plain": [
       "[<matplotlib.lines.Line2D at 0x7fbc9ecf5d10>]"
      ]
     },
     "execution_count": 12,
     "metadata": {
     },
     "output_type": "execute_result"
    },
    {
     "data": {
      "image/png": "[encoded data removed]"
     }
    }
   ],
   "source": [
    "detaold=linspace(0,5000,1000000)\n",
    "detaold=ws/(1.-lamdap)*X[:,5]/rhos*24.*60.*60.*10.**3.\n",
    "\n",
    "plot(x,detaold)"
   ]
  },
  {
   "cell_type": "code",
   "execution_count": 13,
   "metadata": {
    "collapsed": false
   },
   "outputs": [
    {
     "name": "stdout",
     "output_type": "stream",
     "text": [
      "[  0.00000000e+00   5.00000500e-03   1.00000100e-02 ...,   4.99999000e+03\n",
      "   4.99999500e+03   5.00000000e+03]\n"
     ]
    }
   ],
   "source": [
    "print x"
   ]
  },
  {
   "cell_type": "raw",
   "metadata": {
    "collapsed": true
   },
   "source": [
    "Fy=10.**(2.)\n",
    "D0=D0*10.**6.\n",
    "Dp=Dp*10.**6.\n",
    "bc=[derho0,W0,U0,h0,D0,c0]\n"
   ]
  },
  {
   "cell_type": "code",
   "execution_count": 27,
   "metadata": {
    "collapsed": false
   },
   "outputs": [
   ],
   "source": [
    "def dY(Y,x):\n",
    "    derho=Y[0] #yw0\n",
    "    W=Y[1] #yw1\n",
    "    U=Y[2] #yw2\n",
    "    h=Y[3] #yw3\n",
    "    D=Y[4] #yw5\n",
    "    c=Y[5] #yw4\n",
    "    \n",
    "    Frd=U/sqrt((derho/rho0)*g*h)\n",
    "    Ri=(derho/rho0)*g*h/U**2.\n",
    "    delta=alpha*(1.+720.*Ri**2.4)**(-.5)\n",
    "   \n",
    "    we=delta*U\n",
    "    rho=-derho+rho0\n",
    "    #Rs=(rho-rhos)/rho\n",
    "    Rs=(rhos-rho)/rho\n",
    "    #print Rs\n",
    "    #G=(e/nu)**.5\n",
    "    G=sqrt(alpha2/nu)*sqrt(U**3./W)\n",
    "    #eta=(10.**(-6.)/G)**.5\n",
    "    eta=(nu/G)**.5\n",
    "    dderho=-derho*we/(h*U)\n",
    "    dW=2.*(Ri)**.5\n",
    "    dU=(U/(1.-Ri))*((1.+.5*Ri)*(1./derho)*dderho+Ri*(1./W)*dW)\n",
    "    dh=-h*((1./derho*dderho+1./W*dW+1./U*dU))\n",
    "    ws=Rs*g*D**(nf-1.)/(b1*nu*Dp**(nf-3.)+b2*sqrt(g*Rs*D**nf*Dp**(nf-3.)))\n",
    "    dc=-(ws+we)*c*(h*U)**-1.\n",
    "   \n",
    "    A=Ka*c*G*D**(4.-nf)\n",
    "    B=Kb/nf*(mu/Fy)**(.5+2.*D/eta)*G**(.5+2.*D/eta+1.)*Dp**(-p)*D**(2.*(.5+2.*D/eta)+1.)*(D-Dp)**p\n",
    "    dD=(A-B)/(U)\n",
    "    \n",
    "    \n",
    "    return (dderho,dW,dU,dh,dD,dc)    "
   ]
  },
  {
   "cell_type": "code",
   "execution_count": 28,
   "metadata": {
    "collapsed": false
   },
   "outputs": [
    {
     "data": {
      "text/plain": [
       "[<matplotlib.lines.Line2D at 0x7fbca5ca1490>]"
      ]
     },
     "execution_count": 28,
     "metadata": {
     },
     "output_type": "execute_result"
    },
    {
     "data": {
      "image/png": "[encoded data removed]"
     }
    }
   ],
   "source": [
    "Y=odeint(dY,bc,x)\n",
    "plot(x,Y[:,4]*10**6.)\n",
    "plot(x, Y[:,5]*10**3)\n",
    "#ylim(0,100)"
   ]
  },
  {
   "cell_type": "code",
   "execution_count": 16,
   "metadata": {
    "collapsed": false
   },
   "outputs": [
   ],
   "source": [
    "wss=linspace(0,5000,1000000)\n",
    "ws[:]=Rs*g*Y[:,4]**(nf-1.)/(b1*nu*Dp**(nf-3.)+b2*sqrt(g*Rs*Y[:,4]**nf*Dp**(nf-3.)))\n",
    "#wss[:]=Rs*g*(Y[:,4]*10.**-6.)**(nf-1.)/(b1*nu*(Dp*10.**-6.)**(nf-3.)+b2*sqrt(g*Rs*(Y[:,4]*10.**-6.)**nf*(Dp*10.**-6.)**(nf-3.)))\n",
    "GG=linspace(0,5000,1000000)\n",
    "\n",
    "GG[:]=sqrt(alpha2/nu)*sqrt(Y[:,2]**3./Y[:,1])"
   ]
  },
  {
   "cell_type": "code",
   "execution_count": 17,
   "metadata": {
    "collapsed": false
   },
   "outputs": [
    {
     "name": "stdout",
     "output_type": "stream",
     "text": [
      "[  5.11149537e-05   5.11168214e-05   5.11186892e-05 ...,   9.31149014e-04\n",
      "   9.31148846e-04   9.31148677e-04]\n"
     ]
    },
    {
     "data": {
      "image/png": "[encoded data removed]"
     }
    }
   ],
   "source": [
    "detanew=linspace(0,5000,1000000)\n",
    "detanew=ws[:]/(1.-lamdap)*Y[:,5]/rhos*24.*60.*60.*1000.\n",
    "plot(x,detanew)\n",
    "print ws[:]"
   ]
  },
  {
   "cell_type": "code",
   "execution_count": 47,
   "metadata": {
    "collapsed": false
   },
   "outputs": [
   ],
   "source": [
    "GG=(e/nu)**.5"
   ]
  },
  {
   "cell_type": "code",
   "execution_count": 50,
   "metadata": {
    "collapsed": false
   },
   "outputs": [
   ],
   "source": [
    "def dD(D,x):\n",
    "    #D=H[0]\n",
    "    eta=(nu/GG)**.5\n",
    "    dD = (Ka*Y[:,5]*GG*D**2.-Kb/nf*(mu/Fy)**(.5+2.*D/eta)*GG**(.5+2.*D/eta+1.)*Dp**(-p)*D**(2.*(.5+2.*D/eta)+1.)*(D-Dp)**p)/U0\n",
    "    return (dD)"
   ]
  },
  {
   "cell_type": "code",
   "execution_count": 51,
   "metadata": {
    "collapsed": false
   },
   "outputs": [
    {
     "ename": "RuntimeError",
     "evalue": "The size of the array returned by func (1000000) does not match the size of y0 (1).",
     "output_type": "error",
     "traceback": [
      "\u001b[0;31m---------------------------------------------------------------------------\u001b[0m",
      "\u001b[0;31mRuntimeError\u001b[0m                              Traceback (most recent call last)",
      "\u001b[0;32m<ipython-input-51-df01f919631a>\u001b[0m in \u001b[0;36m<module>\u001b[0;34m()\u001b[0m\n\u001b[1;32m      1\u001b[0m \u001b[0mbc\u001b[0m\u001b[0;34m=\u001b[0m\u001b[0;34m[\u001b[0m\u001b[0mD0\u001b[0m\u001b[0;34m]\u001b[0m\u001b[0;34m\u001b[0m\u001b[0m\n\u001b[0;32m----> 2\u001b[0;31m \u001b[0mD\u001b[0m\u001b[0;34m=\u001b[0m \u001b[0modeint\u001b[0m\u001b[0;34m(\u001b[0m\u001b[0mdD\u001b[0m\u001b[0;34m,\u001b[0m \u001b[0mbc\u001b[0m\u001b[0;34m,\u001b[0m \u001b[0mx\u001b[0m\u001b[0;34m)\u001b[0m\u001b[0;34m\u001b[0m\u001b[0m\n\u001b[0m",
      "\u001b[0;32m/projects/sage/sage/local/lib/python2.7/site-packages/scipy/integrate/odepack.py\u001b[0m in \u001b[0;36modeint\u001b[0;34m(func, y0, t, args, Dfun, col_deriv, full_output, ml, mu, rtol, atol, tcrit, h0, hmax, hmin, ixpr, mxstep, mxhnil, mxordn, mxords, printmessg)\u001b[0m\n\u001b[1;32m    213\u001b[0m     output = _odepack.odeint(func, y0, t, args, Dfun, col_deriv, ml, mu,\n\u001b[1;32m    214\u001b[0m                              \u001b[0mfull_output\u001b[0m\u001b[0;34m,\u001b[0m \u001b[0mrtol\u001b[0m\u001b[0;34m,\u001b[0m \u001b[0matol\u001b[0m\u001b[0;34m,\u001b[0m \u001b[0mtcrit\u001b[0m\u001b[0;34m,\u001b[0m \u001b[0mh0\u001b[0m\u001b[0;34m,\u001b[0m \u001b[0mhmax\u001b[0m\u001b[0;34m,\u001b[0m \u001b[0mhmin\u001b[0m\u001b[0;34m,\u001b[0m\u001b[0;34m\u001b[0m\u001b[0m\n\u001b[0;32m--> 215\u001b[0;31m                              ixpr, mxstep, mxhnil, mxordn, mxords)\n\u001b[0m\u001b[1;32m    216\u001b[0m     \u001b[0;32mif\u001b[0m \u001b[0moutput\u001b[0m\u001b[0;34m[\u001b[0m\u001b[0;34m-\u001b[0m\u001b[0;36m1\u001b[0m\u001b[0;34m]\u001b[0m \u001b[0;34m<\u001b[0m \u001b[0;36m0\u001b[0m\u001b[0;34m:\u001b[0m\u001b[0;34m\u001b[0m\u001b[0m\n\u001b[1;32m    217\u001b[0m         \u001b[0mwarning_msg\u001b[0m \u001b[0;34m=\u001b[0m \u001b[0m_msgs\u001b[0m\u001b[0;34m[\u001b[0m\u001b[0moutput\u001b[0m\u001b[0;34m[\u001b[0m\u001b[0;34m-\u001b[0m\u001b[0;36m1\u001b[0m\u001b[0;34m]\u001b[0m\u001b[0;34m]\u001b[0m \u001b[0;34m+\u001b[0m \u001b[0;34m\" Run with full_output = 1 to get quantitative information.\"\u001b[0m\u001b[0;34m\u001b[0m\u001b[0m\n",
      "\u001b[0;31mRuntimeError\u001b[0m: The size of the array returned by func (1000000) does not match the size of y0 (1)."
     ]
    }
   ],
   "source": [
    "bc=[D0]\n",
    "D= odeint(dD, bc, x)"
   ]
  },
  {
   "cell_type": "code",
   "execution_count": 71,
   "metadata": {
    "collapsed": false
   },
   "outputs": [
   ],
   "source": [
    "figure(figsize=(6,4))\n",
    "matplotlib.rcParams.update({'font.size': 11})\n",
    "ajk,=plot(x,detaold, label='W98')#linestyle='--')\n",
    "aik,=plot(x, detanew, label='New')\n",
    "plt.legend(handles=[ajk,aik],prop={'size':20})\n",
    "plt.xlabel('x[m] (s)')\n",
    "plt.ylabel('$\\Delta\\eta$ [mm]')\n",
    "plt.title('d$\\eta$')\n",
    "#leg=plt.legend(loc='upper center', bbox_to_anchor=(0.5, -0.15),\n",
    "          #fancybox=True, shadow=True, ncol=1)\n",
    "savefig('deta05.pdf', bbox_inches='tight')"
   ]
  },
  {
   "cell_type": "code",
   "execution_count": 77,
   "metadata": {
    "collapsed": false
   },
   "outputs": [
   ],
   "source": [
    "figure(figsize=(6,4))\n",
    "matplotlib.rcParams.update({'font.size': 11})\n",
    "ajk,=plot(x,X[:,4]*10.**6., label='W98')#linestyle='--')\n",
    "aik,=plot(x, Y[:,4]*10.**6., label='New')\n",
    "plt.legend(handles=[ajk,aik],prop={'size':20})\n",
    "plt.xlabel('x[m]')\n",
    "plt.ylabel('Floc Size $\\mu$m')\n",
    "plt.title('Sediment Size')\n",
    "#leg=plt.legend(loc='upper center', bbox_to_anchor=(0.5, -0.15),\n",
    "          #fancybox=True, shadow=True, ncol=1)\n",
    "savefig('floc05.pdf', bbox_inches='tight')"
   ]
  },
  {
   "cell_type": "code",
   "execution_count": 78,
   "metadata": {
    "collapsed": false
   },
   "outputs": [
   ],
   "source": [
    "figure(figsize=(6,4))\n",
    "matplotlib.rcParams.update({'font.size': 11})\n",
    "ajk,=plot(x,X[:,5]*10.**3., label='W98')#linestyle='--')\n",
    "aik,=plot(x, Y[:,5]*10**3., label='New')\n",
    "plt.legend(handles=[ajk,aik],prop={'size':20})\n",
    "plt.xlabel('x[m]')\n",
    "plt.ylabel('Concentration mg/l')\n",
    "plt.title('Concentration')\n",
    "#leg=plt.legend(loc='upper center', bbox_to_anchor=(0.5, -0.15),\n",
    "          #fancybox=True, shadow=True, ncol=1)\n",
    "savefig('concenration05.pdf', bbox_inches='tight')"
   ]
  },
  {
   "cell_type": "code",
   "execution_count": 0,
   "metadata": {
    "collapsed": true
   },
   "outputs": [
   ],
   "source": [
   ]
  }
 ],
 "metadata": {
  "kernelspec": {
   "display_name": "Python 2 (SageMath)",
   "language": "python",
   "name": "python2"
  },
  "language_info": {
   "codemirror_mode": {
    "name": "ipython",
    "version": 2
   },
   "file_extension": ".py",
   "mimetype": "text/x-python",
   "name": "python",
   "nbconvert_exporter": "python",
   "pygments_lexer": "ipython2",
   "version": "2.7.13"
  },
  "name": "2015-09-24-134708.ipynb"
 },
 "nbformat": 4,
 "nbformat_minor": 0
}